{
 "cells": [
  {
   "cell_type": "code",
   "execution_count": 1,
   "metadata": {},
   "outputs": [
    {
     "name": "stdout",
     "output_type": "stream",
     "text": [
      "{'n': 4, 'qarr': [0, 0, 0, 0, 0, 0, 0, 0], 'uarr': [None, None, None, None, None, None, None, None]}\n",
      "{'self': <misc_segment_trees.SetSumSegmentTree object at 0x7f74a265a940>, 'start': 0, 'end': 3, 'value': 5, 'i': 2, 'istart': 0, 'iend': 2} {'n': 4, 'qarr': [0, 0, 10, 0, 0, 0, 0, 0], 'uarr': [None, None, None, None, 5, 5, None, None]}\n",
      "{'self': <misc_segment_trees.SetSumSegmentTree object at 0x7f74a265a940>, 'start': 0, 'end': 3, 'value': 5, 'i': 6, 'istart': 2, 'iend': 3} {'n': 4, 'qarr': [0, 0, 10, 0, 0, 0, 5, 0], 'uarr': [None, None, None, None, 5, 5, None, None]}\n",
      "{'self': <misc_segment_trees.SetSumSegmentTree object at 0x7f74a265a940>, 'start': 0, 'end': 3, 'value': 5, 'i': 3, 'istart': 2, 'iend': 4, 'mid': 3, 'left': 5, 'right': 0} {'n': 4, 'qarr': [0, 0, 10, 5, 0, 0, 5, 0], 'uarr': [None, None, None, None, 5, 5, None, None]}\n",
      "{'self': <misc_segment_trees.SetSumSegmentTree object at 0x7f74a265a940>, 'start': 0, 'end': 3, 'value': 5, 'i': 1, 'istart': 0, 'iend': 4, 'mid': 2, 'left': 10, 'right': 5} {'n': 4, 'qarr': [0, 15, 10, 5, 0, 0, 5, 0], 'uarr': [None, None, None, None, 5, 5, None, None]}\n",
      "{'n': 4, 'qarr': [0, 15, 10, 5, 0, 0, 5, 0], 'uarr': [None, None, None, None, 5, 5, None, None]}\n",
      "{'self': <misc_segment_trees.SetSumSegmentTree object at 0x7f74a265a940>, 'start': 1, 'end': 4, 'value': None, 'i': 5, 'istart': 1, 'iend': 2} {'n': 4, 'qarr': [0, 15, 10, 5, 0, 5, 5, 0], 'uarr': [None, None, None, None, 5, None, None, None]}\n",
      "{'self': <misc_segment_trees.SetSumSegmentTree object at 0x7f74a265a940>, 'start': 1, 'end': 4, 'value': None, 'i': 2, 'istart': 0, 'iend': 2, 'mid': 1, 'left': 0, 'right': 5} {'n': 4, 'qarr': [0, 15, 10, 5, 0, 5, 5, 0], 'uarr': [None, None, None, None, 5, None, None, None]}\n",
      "{'self': <misc_segment_trees.SetSumSegmentTree object at 0x7f74a265a940>, 'start': 1, 'end': 4, 'value': None, 'i': 3, 'istart': 2, 'iend': 4} {'n': 4, 'qarr': [0, 15, 10, 5, 0, 5, 5, 0], 'uarr': [None, None, None, None, 5, None, None, None]}\n",
      "{'self': <misc_segment_trees.SetSumSegmentTree object at 0x7f74a265a940>, 'start': 1, 'end': 4, 'value': None, 'i': 1, 'istart': 0, 'iend': 4, 'mid': 2, 'left': 10, 'right': 5} {'n': 4, 'qarr': [0, 15, 10, 5, 0, 5, 5, 0], 'uarr': [None, None, None, None, 5, None, None, None]}\n",
      "15\n",
      "{'n': 4, 'qarr': [0, 15, 10, 5, 0, 5, 5, 0], 'uarr': [None, None, None, None, 5, None, None, None]}\n"
     ]
    }
   ],
   "source": [
    "from misc_segment_trees import SetSumSegmentTree as ST\n",
    "\n",
    "def test1():\n",
    "    st = ST(4)\n",
    "    print(st.__dict__)\n",
    "    st.update(0, 3, 5)\n",
    "    print(st.__dict__)\n",
    "    print(st.query(1, 4))\n",
    "    print(st.__dict__)\n",
    "    return\n",
    "\n",
    "test1()"
   ]
  }
 ],
 "metadata": {
  "kernelspec": {
   "display_name": "Python 3.8.10 64-bit",
   "language": "python",
   "name": "python3"
  },
  "language_info": {
   "codemirror_mode": {
    "name": "ipython",
    "version": 3
   },
   "file_extension": ".py",
   "mimetype": "text/x-python",
   "name": "python",
   "nbconvert_exporter": "python",
   "pygments_lexer": "ipython3",
   "version": "3.8.10"
  },
  "orig_nbformat": 4,
  "vscode": {
   "interpreter": {
    "hash": "916dbcbb3f70747c44a77c7bcd40155683ae19c65e1c03b4aa3499c5328201f1"
   }
  }
 },
 "nbformat": 4,
 "nbformat_minor": 2
}
