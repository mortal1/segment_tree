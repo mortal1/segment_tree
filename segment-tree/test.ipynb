{
 "cells": [
  {
   "cell_type": "code",
   "execution_count": 1,
   "metadata": {},
   "outputs": [
    {
     "name": "stdout",
     "output_type": "stream",
     "text": [
      "{'n': 4, 'qarr': [0, 0, 0, 0, 0, 0, 0, 0], 'uarr': [None, None, None, None, None, None, None, None]}\n",
      "{'n': 4, 'qarr': [0, 3, 2, 1, 0, 0, 1, 0], 'uarr': [None, None, None, None, 1, 1, None, None]}\n",
      "{'n': 4, 'qarr': [0, 10, 4, 6, 1, 3, 1, 0], 'uarr': [None, None, None, None, None, None, 3, 3]}\n",
      "7\n",
      "{'n': 4, 'qarr': [0, 10, 4, 6, 1, 3, 3, 3], 'uarr': [None, None, None, None, None, None, None, None]}\n"
     ]
    }
   ],
   "source": [
    "from misc_segment_trees import SetSumSegmentTree as ST\n",
    "\n",
    "def test1():\n",
    "    st = ST(4)\n",
    "    print(st.__dict__)\n",
    "    st.update(0, 3, 1)\n",
    "    print(st.__dict__)\n",
    "    st.update(1, 4, 3)\n",
    "    print(st.__dict__)\n",
    "    print(st.query(0, 3))\n",
    "    print(st.__dict__)\n",
    "    return\n",
    "\n",
    "test1()"
   ]
  }
 ],
 "metadata": {
  "kernelspec": {
   "display_name": "Python 3.8.10 64-bit",
   "language": "python",
   "name": "python3"
  },
  "language_info": {
   "codemirror_mode": {
    "name": "ipython",
    "version": 3
   },
   "file_extension": ".py",
   "mimetype": "text/x-python",
   "name": "python",
   "nbconvert_exporter": "python",
   "pygments_lexer": "ipython3",
   "version": "3.8.10"
  },
  "orig_nbformat": 4,
  "vscode": {
   "interpreter": {
    "hash": "916dbcbb3f70747c44a77c7bcd40155683ae19c65e1c03b4aa3499c5328201f1"
   }
  }
 },
 "nbformat": 4,
 "nbformat_minor": 2
}
