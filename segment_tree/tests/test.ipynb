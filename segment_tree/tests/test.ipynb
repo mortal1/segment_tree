{
 "cells": [
  {
   "cell_type": "code",
   "execution_count": 1,
   "metadata": {},
   "outputs": [
    {
     "name": "stdout",
     "output_type": "stream",
     "text": [
      "{'n': 4, 'qarr': [0, 0, 0, 0, 0, 0, 0, 0], 'uarr': [None, None, None, None, None, None, None, None]}\n",
      "{'n': 4, 'qarr': [0, 3, 2, 1, 0, 0, 1, 0], 'uarr': [None, None, None, None, 1, 1, None, None]}\n",
      "{'n': 4, 'qarr': [0, 10, 4, 6, 1, 3, 1, 0], 'uarr': [None, None, None, None, None, None, 3, 3]}\n",
      "7\n",
      "{'n': 4, 'qarr': [0, 10, 4, 6, 1, 3, 3, 3], 'uarr': [None, None, None, None, None, None, None, None]}\n"
     ]
    }
   ],
   "source": [
    "from misc_segment_trees import SetSumSegmentTree as ST\n",
    "\n",
    "def test1():\n",
    "    st = ST(4)\n",
    "    print(st.__dict__)\n",
    "    st.update(0, 3, 1)\n",
    "    print(st.__dict__)\n",
    "    st.update(1, 4, 3)\n",
    "    print(st.__dict__)\n",
    "    print(st.query(0, 3))\n",
    "    print(st.__dict__)\n",
    "    return\n",
    "\n",
    "test1()"
   ]
  },
  {
   "cell_type": "code",
   "execution_count": 3,
   "metadata": {},
   "outputs": [
    {
     "name": "stdout",
     "output_type": "stream",
     "text": [
      "testOperations failed\n",
      "expected: [0, 6, 11, 5, 2, 6, 3, 6]\n",
      "produced: [3, 6, 11, 5, 2, 6, 3, 6]\n",
      "final state: {'query_add': <function add at 0x000001B47106B430>, 'query_id': 0, 'update_add': <function snd at 0x000001B47106B310>, 'update_id': None, 'transfer': <function snd_add at 0x000001B47106B4C0>, 'N': 4, 'qarr': [0, 4, 5, 6, 2, 3, 3, 3], 'uarr': [None, None, 1, 1, None, None, None, None]}\n"
     ]
    }
   ],
   "source": [
    "# from misc_segment_trees import GenericSegmentTree as ST\n",
    "from generic_segtree_explanatory import GenericSegmentTree as ST\n",
    "\n",
    "\n",
    "def testOperations():\n",
    "    results = []\n",
    "\n",
    "    st = ST([0]*4)\n",
    "    results.append(st.query(0, 3))\n",
    "    results.append(st.update(0, 3, 2))\n",
    "    results.append(st.query(0, 3))\n",
    "    results.append(st.update(1, 4, 3))\n",
    "    results.append(st.query(0, 4))\n",
    "    results.append(st.query(0, 2))\n",
    "    results.append(st.query(0, 1))\n",
    "    results.append(st.query(2, 4))\n",
    "    results.append(st.query(2, 3))\n",
    "    results.append(st.query(2, 4))\n",
    "    results.append(st.update(0, 4, 1))\n",
    "\n",
    "    results = [result for result in results if result is not None]\n",
    "    \n",
    "    expected_results = [0, 6, 11, 5, 2, 6, 3, 6]\n",
    "\n",
    "    if results == expected_results:\n",
    "        print(\"testOperations passed\")\n",
    "        # print(\"final state:\", st.__dict__)\n",
    "    else:\n",
    "        print(\"testOperations failed\")\n",
    "        print(\"expected:\", expected_results)\n",
    "        print(\"produced:\", results)\n",
    "        print(\"final state:\", st.__dict__)\n",
    "    \n",
    "testOperations()\n",
    "\n",
    "\n",
    "# testOperations :: ([Maybe Int], ST)\n",
    "# testOperations =\n",
    "#   pure (build' 4)\n",
    "#   >>= query' 0 3\n",
    "#   >>= update' 0 3 2\n",
    "#   >>= query' 0 3\n",
    "#   >>= update' 1 4 3\n",
    "#   >>= query' 0 4\n",
    "#   >>= query' 0 2\n",
    "#   >>= query' 0 1\n",
    "#   >>= query' 2 4\n",
    "#   >>= query' 2 3\n",
    "#   >>= query' 2 4\n",
    "#   >>= update' 0 4 1"
   ]
  },
  {
   "cell_type": "code",
   "execution_count": 1,
   "metadata": {},
   "outputs": [
    {
     "name": "stdout",
     "output_type": "stream",
     "text": [
      "{'n': 4, 'qarr': [4, 4, 2, 2, 1, 1, 1, 1], 'uarr': [1, 1, 1, 1, 1, 1, 1, 1]}\n",
      "{'n': 4, 'qarr': [4, 7, 4, 3, 1, 1, 2, 1], 'uarr': [1, 1, 2, 1, 1, 1, 2, 1]}\n",
      "{'n': 4, 'qarr': [4, 17, 8, 9, 1, 3, 2, 1], 'uarr': [1, 1, 2, 3, 1, 3, 2, 1]}\n",
      "14\n",
      "{'n': 4, 'qarr': [4, 17, 8, 9, 1, 3, 2, 1], 'uarr': [1, 1, 2, 3, 1, 3, 2, 1]}\n",
      "{'n': 4, 'qarr': [0, 0, 0, 0, 0, 0, 0, 0], 'uarr': [0, 0, 0, 0, 0, 0, 0, 0]}\n",
      "{'n': 4, 'qarr': [0, 6, 4, 2, 0, 0, 2, 0], 'uarr': [0, 0, 2, 0, 0, 0, 2, 0]}\n",
      "{'n': 4, 'qarr': [0, 15, 7, 8, 0, 3, 2, 0], 'uarr': [0, 0, 2, 3, 0, 3, 2, 0]}\n",
      "12\n",
      "{'n': 4, 'qarr': [0, 15, 7, 8, 0, 3, 2, 0], 'uarr': [0, 0, 2, 3, 0, 3, 2, 0]}\n"
     ]
    }
   ],
   "source": [
    "from sum_mul_tree import SumMulTree\n",
    "from sum_add_tree import SumAddTree\n",
    "from typing import ClassVar\n",
    "\n",
    "def test_tree1(segtree):\n",
    "    st = segtree(4)\n",
    "    print(st.__dict__)\n",
    "    st.update(0, 3, 2)\n",
    "    print(st.__dict__)\n",
    "    st.update(1, 4, 3)\n",
    "    print(st.__dict__)\n",
    "    print(st.query(0, 3))\n",
    "    print(st.__dict__)\n",
    "    return\n",
    "\n",
    "test_tree1(SumMulTree)\n",
    "test_tree1(SumAddTree)"
   ]
  },
  {
   "cell_type": "code",
   "execution_count": 2,
   "metadata": {},
   "outputs": [
    {
     "data": {
      "text/plain": [
       "2"
      ]
     },
     "execution_count": 2,
     "metadata": {},
     "output_type": "execute_result"
    }
   ],
   "source": [
    "from math import log2, ceil\n",
    "\n",
    "ceil(log2(4))"
   ]
  },
  {
   "cell_type": "code",
   "execution_count": 3,
   "metadata": {},
   "outputs": [
    {
     "name": "stdout",
     "output_type": "stream",
     "text": [
      "5\n",
      "5\n",
      "3\n"
     ]
    }
   ],
   "source": [
    "class A():\n",
    "    a = 5\n",
    "\n",
    "    \n",
    "    def __init__(self, val=None):\n",
    "        if val:\n",
    "            self.a = val\n",
    "\n",
    "a = A()\n",
    "print(a.a)\n",
    "\n",
    "b = A(3)\n",
    "print(a.a)\n",
    "print(b.a)\n",
    "\n"
   ]
  }
 ],
 "metadata": {
  "kernelspec": {
   "display_name": "Python 3.8.10 64-bit (windows store)",
   "language": "python",
   "name": "python3"
  },
  "language_info": {
   "codemirror_mode": {
    "name": "ipython",
    "version": 3
   },
   "file_extension": ".py",
   "mimetype": "text/x-python",
   "name": "python",
   "nbconvert_exporter": "python",
   "pygments_lexer": "ipython3",
   "version": "3.8.10"
  },
  "orig_nbformat": 4,
  "vscode": {
   "interpreter": {
    "hash": "dd1ae03e6ee632170207f7ee89ef24cee33fe8a68c5adde3617f9c7b38cb785b"
   }
  }
 },
 "nbformat": 4,
 "nbformat_minor": 2
}
